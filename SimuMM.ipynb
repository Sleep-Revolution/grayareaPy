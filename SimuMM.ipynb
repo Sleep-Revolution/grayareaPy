{
 "cells": [
  {
   "cell_type": "code",
   "execution_count": 5,
   "id": "66f1aa58",
   "metadata": {},
   "outputs": [],
   "source": [
    "from src.SimuMM import *"
   ]
  },
  {
   "cell_type": "code",
   "execution_count": 6,
   "metadata": {},
   "outputs": [],
   "source": [
    "\n",
    "list_theta_i_m = [np.array([[0.99,0.005,0.003,0.002],\n",
    "                            [0.03,0.95,0.01,0.01],\n",
    "                            [0.01,0.13,0.85,0.01],\n",
    "                            [0.005,0.005,0.5,0.49],\n",
    "                            [1/4]*4])]\n",
    "\n",
    "list_pi = [np.array([1/5]*5)]\n",
    "list_N = [500,10000,50000]\n",
    "list_E = [10]\n",
    "list_Distr = [\"Multinomial\"]\n",
    "list_alpha = [0]\n",
    "run = RunExp(list_pi,list_theta_i_m,list_N,list_E,list_Distr)\n"
   ]
  },
  {
   "cell_type": "code",
   "execution_count": 7,
   "metadata": {},
   "outputs": [
    {
     "data": {
      "application/vnd.jupyter.widget-view+json": {
       "model_id": "a6753a5c34994b18acb4b2b4d9a7c2a1",
       "version_major": 2,
       "version_minor": 0
      },
      "text/plain": [
       "IntProgress(value=0, description='nExp= 0/3', max=3)"
      ]
     },
     "metadata": {},
     "output_type": "display_data"
    },
    {
     "data": {
      "application/vnd.jupyter.widget-view+json": {
       "model_id": "30cb8d7c40a34db8bdd3025fb31c401e",
       "version_major": 2,
       "version_minor": 0
      },
      "text/plain": [
       "IntProgress(value=0, description='nRep= 0/30', max=30)"
      ]
     },
     "metadata": {},
     "output_type": "display_data"
    }
   ],
   "source": [
    "run.Run(nRep=30)"
   ]
  },
  {
   "cell_type": "code",
   "execution_count": 4,
   "id": "0ca27530",
   "metadata": {},
   "outputs": [],
   "source": [
    "run.saveEXP(\"SimuMM\")"
   ]
  }
 ],
 "metadata": {
  "kernelspec": {
   "display_name": "Python 3 (ipykernel)",
   "language": "python",
   "name": "python3"
  },
  "language_info": {
   "codemirror_mode": {
    "name": "ipython",
    "version": 3
   },
   "file_extension": ".py",
   "mimetype": "text/x-python",
   "name": "python",
   "nbconvert_exporter": "python",
   "pygments_lexer": "ipython3",
   "version": "3.12.0"
  }
 },
 "nbformat": 4,
 "nbformat_minor": 5
}
