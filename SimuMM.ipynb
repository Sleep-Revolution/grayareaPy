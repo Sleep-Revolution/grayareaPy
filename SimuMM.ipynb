{
 "cells": [
  {
   "cell_type": "code",
   "execution_count": 5,
   "id": "66f1aa58",
   "metadata": {},
   "outputs": [],
   "source": [
    "from src.SimuMM import *"
   ]
  },
  {
   "cell_type": "code",
   "execution_count": 6,
   "id": "e156c41d",
   "metadata": {},
   "outputs": [],
   "source": [
    "list_pi = [np.array([1/3]*3),np.array([0.7,0.2,0.1])]\n",
    "list_N = [500,10000,50000]\n",
    "list_E = [10]\n",
    "list_Distr = [\"Multinomial\"]\n",
    "list_theta_i_m = [np.array([[0.98,0.005,0.005,0.01],[0.7,0.1,0.1,0.1],[1/4]*4])]\n",
    "list_threshold = [0.2]\n",
    "run = RunExp(list_pi,list_theta_i_m,list_N,list_E,list_Distr,list_threshold=list_threshold)"
   ]
  },
  {
   "cell_type": "code",
   "execution_count": 7,
   "id": "04240ac4",
   "metadata": {
    "scrolled": true
   },
   "outputs": [
    {
     "data": {
      "application/vnd.jupyter.widget-view+json": {
       "model_id": "147c1bca75d8498ea2f6f1fe3802bf2c",
       "version_major": 2,
       "version_minor": 0
      },
      "text/plain": [
       "IntProgress(value=0, description='nExp= 0/6', max=6)"
      ]
     },
     "metadata": {},
     "output_type": "display_data"
    },
    {
     "data": {
      "application/vnd.jupyter.widget-view+json": {
       "model_id": "11f1c91802f74442bf7b1eae8e208945",
       "version_major": 2,
       "version_minor": 0
      },
      "text/plain": [
       "IntProgress(value=0, description='nRep= 0/30', max=30)"
      ]
     },
     "metadata": {},
     "output_type": "display_data"
    }
   ],
   "source": [
    "run.Run(nRep=30)"
   ]
  },
  {
   "cell_type": "code",
   "execution_count": 8,
   "id": "0ca27530",
   "metadata": {},
   "outputs": [],
   "source": [
    "run.saveEXP(\"SimuMM\")"
   ]
  }
 ],
 "metadata": {
  "kernelspec": {
   "display_name": "Python 3 (ipykernel)",
   "language": "python",
   "name": "python3"
  },
  "language_info": {
   "codemirror_mode": {
    "name": "ipython",
    "version": 3
   },
   "file_extension": ".py",
   "mimetype": "text/x-python",
   "name": "python",
   "nbconvert_exporter": "python",
   "pygments_lexer": "ipython3",
   "version": "3.9.12"
  }
 },
 "nbformat": 4,
 "nbformat_minor": 5
}
